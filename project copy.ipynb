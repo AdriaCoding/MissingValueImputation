{
 "cells": [
  {
   "cell_type": "code",
   "execution_count": 368,
   "metadata": {},
   "outputs": [
    {
     "name": "stdout",
     "output_type": "stream",
     "text": [
      "                     gracia    pr  eixample  prat  montcada  ciutadella  \\\n",
      "date                                                                      \n",
      "2017-06-01 01:00:00    29.0  24.0      34.0  28.0      26.0        43.0   \n",
      "2017-06-01 02:00:00    16.0  14.0      27.0  27.0      17.0         9.0   \n",
      "2017-06-01 03:00:00    11.0  14.0       9.0  22.0      11.0         4.0   \n",
      "2017-06-01 04:00:00    13.0  27.0      14.0  23.0      10.0         4.0   \n",
      "2017-06-01 05:00:00    40.0  33.0      42.0  16.0       5.0         2.0   \n",
      "...                     ...   ...       ...   ...       ...         ...   \n",
      "2017-10-06 19:00:00    18.0  44.0      10.0  61.0      58.0        48.0   \n",
      "2017-10-06 20:00:00    16.0  35.0       7.0  54.0      50.0        58.0   \n",
      "2017-10-06 21:00:00    35.0  43.0      14.0  52.0      51.0        53.0   \n",
      "2017-10-06 22:00:00    41.0  58.0      32.0  49.0      50.0        55.0   \n",
      "2017-10-06 23:00:00    43.0  58.0      28.0  51.0      53.0        44.0   \n",
      "\n",
      "                     hebron  badalona  \n",
      "date                                   \n",
      "2017-06-01 01:00:00    21.0      46.0  \n",
      "2017-06-01 02:00:00    46.0      24.0  \n",
      "2017-06-01 03:00:00    40.0      17.0  \n",
      "2017-06-01 04:00:00    21.0       8.0  \n",
      "2017-06-01 05:00:00    21.0      13.0  \n",
      "...                     ...       ...  \n",
      "2017-10-06 19:00:00    33.0      70.0  \n",
      "2017-10-06 20:00:00    54.0      70.0  \n",
      "2017-10-06 21:00:00    63.0      71.0  \n",
      "2017-10-06 22:00:00    55.0      71.0  \n",
      "2017-10-06 23:00:00    44.0      76.0  \n",
      "\n",
      "[2257 rows x 8 columns]\n"
     ]
    }
   ],
   "source": [
    "import pandas as pd\n",
    "\n",
    "data = pd.read_csv('data_matrix.csv', sep=';')\n",
    "\n",
    "data['date'] = pd.to_datetime(data['date'])\n",
    "data.set_index('date', inplace=True)\n",
    "print(data)"
   ]
  },
  {
   "cell_type": "code",
   "execution_count": 248,
   "metadata": {},
   "outputs": [
    {
     "name": "stdout",
     "output_type": "stream",
     "text": [
      "         Name      EOI        Lat       Lon\n",
      "0      gracia  8019044  41.398724  2.153399\n",
      "1      hebron  8019054  41.426110  2.148002\n",
      "2          pr  8019057  41.387490  2.115200\n",
      "3        prat  8169009  41.321774  2.082100\n",
      "4  ciutadella  8019050  41.386406  2.187398\n",
      "5    eixample  8019043  41.385315  2.153800\n",
      "6    badalona  8015021  41.443985  2.237899\n",
      "7    montcada  8125002  41.481970  2.188298\n"
     ]
    }
   ],
   "source": [
    "import pandas as pd\n",
    "\n",
    "barrisLocations = pd.read_csv('Node-Location.csv', sep=';')\n",
    "\n",
    "print(barrisLocations)"
   ]
  },
  {
   "cell_type": "code",
   "execution_count": 249,
   "metadata": {},
   "outputs": [
    {
     "name": "stdout",
     "output_type": "stream",
     "text": [
      "                     gracia    pr  eixample  prat  montcada  ciutadella  \\\n",
      "date                                                                      \n",
      "2017-06-01 01:00:00    29.0   NaN      34.0  28.0      26.0        43.0   \n",
      "2017-06-01 02:00:00    16.0   NaN      27.0  27.0      17.0         9.0   \n",
      "2017-06-01 03:00:00    11.0  14.0       9.0  22.0      11.0         4.0   \n",
      "2017-06-01 04:00:00    13.0  27.0      14.0  23.0      10.0         4.0   \n",
      "2017-06-01 05:00:00    40.0  33.0      42.0  16.0       5.0         2.0   \n",
      "...                     ...   ...       ...   ...       ...         ...   \n",
      "2017-10-06 19:00:00    18.0  44.0      10.0   NaN      58.0         NaN   \n",
      "2017-10-06 20:00:00    16.0  35.0       7.0  54.0      50.0        58.0   \n",
      "2017-10-06 21:00:00    35.0   NaN      14.0  52.0      51.0        53.0   \n",
      "2017-10-06 22:00:00    41.0  58.0      32.0  49.0      50.0        55.0   \n",
      "2017-10-06 23:00:00    43.0  58.0      28.0  51.0      53.0        44.0   \n",
      "\n",
      "                     hebron  badalona  \n",
      "date                                   \n",
      "2017-06-01 01:00:00    21.0      46.0  \n",
      "2017-06-01 02:00:00    46.0      24.0  \n",
      "2017-06-01 03:00:00    40.0      17.0  \n",
      "2017-06-01 04:00:00    21.0       8.0  \n",
      "2017-06-01 05:00:00    21.0      13.0  \n",
      "...                     ...       ...  \n",
      "2017-10-06 19:00:00    33.0      70.0  \n",
      "2017-10-06 20:00:00    54.0      70.0  \n",
      "2017-10-06 21:00:00    63.0      71.0  \n",
      "2017-10-06 22:00:00     NaN      71.0  \n",
      "2017-10-06 23:00:00    44.0      76.0  \n",
      "\n",
      "[2257 rows x 8 columns]\n"
     ]
    }
   ],
   "source": [
    "from mg import produce_missings\n",
    "import pandas as pd\n",
    "\n",
    "# Assuming 'data' is your DataFrame and it's already defined\n",
    "missing = data.copy(deep=True)  # Create a deep copy to avoid modifying the original DataFrame\n",
    "miss_dict = {}  # Initialize an empty dictionary to store missing indexes\n",
    "\n",
    "for column in data.columns:\n",
    "    indexes_missing, missing[column] = produce_missings(data[column], 0.1, 1)\n",
    "    miss_dict[column] = indexes_missing  # Store the missing indexes in the dictionary\n",
    "    missing_indexes_labels = data.index[indexes_missing]\n",
    "print(missing)"
   ]
  },
  {
   "cell_type": "code",
   "execution_count": 250,
   "metadata": {},
   "outputs": [
    {
     "name": "stdout",
     "output_type": "stream",
     "text": [
      "                     gracia  pr  eixample   prat  montcada  ciutadella  \\\n",
      "date                                                                     \n",
      "2017-08-19 17:00:00    74.0 NaN      72.0   78.0      78.0        72.0   \n",
      "2017-08-22 01:00:00    35.0 NaN      42.0    NaN      27.0        41.0   \n",
      "2017-07-01 19:00:00    73.0 NaN      54.0   81.0      80.0        77.0   \n",
      "2017-09-22 14:00:00    72.0 NaN      53.0   86.0      81.0        94.0   \n",
      "2017-06-07 06:00:00    37.0 NaN       NaN   63.0      10.0        43.0   \n",
      "...                     ...  ..       ...    ...       ...         ...   \n",
      "2017-06-28 13:00:00    49.0 NaN      44.0   62.0      66.0        35.0   \n",
      "2017-06-29 07:00:00    35.0 NaN      22.0    9.0       1.0        44.0   \n",
      "2017-09-07 01:00:00    64.0 NaN      58.0   68.0      67.0        64.0   \n",
      "2017-09-21 02:00:00    34.0 NaN      70.0    9.0       1.0         NaN   \n",
      "2017-06-06 13:00:00    66.0 NaN      67.0  111.0      90.0        57.0   \n",
      "\n",
      "                     hebron  badalona  \n",
      "date                                   \n",
      "2017-08-19 17:00:00    87.0      92.0  \n",
      "2017-08-22 01:00:00    35.0      27.0  \n",
      "2017-07-01 19:00:00    84.0      86.0  \n",
      "2017-09-22 14:00:00    79.0     103.0  \n",
      "2017-06-07 06:00:00    59.0      63.0  \n",
      "...                     ...       ...  \n",
      "2017-06-28 13:00:00    83.0      68.0  \n",
      "2017-06-29 07:00:00    42.0      30.0  \n",
      "2017-09-07 01:00:00    69.0      82.0  \n",
      "2017-09-21 02:00:00    51.0       NaN  \n",
      "2017-06-06 13:00:00    94.0     103.0  \n",
      "\n",
      "[225 rows x 8 columns]\n"
     ]
    }
   ],
   "source": [
    "\n",
    "# Now, you can access the missing indexes for any column using missing_indexes_dict\n",
    "# For example, to access missing indexes for a column named 'example_column', you can use:\n",
    "# missing_indexes_dict['example_column']\n",
    "print(missing.iloc[miss_dict['pr']])"
   ]
  },
  {
   "cell_type": "markdown",
   "metadata": {},
   "source": []
  },
  {
   "cell_type": "markdown",
   "metadata": {},
   "source": [
    "# Univariate MVI\n",
    "\n",
    "Prepare method to compute error metrics\n"
   ]
  },
  {
   "cell_type": "code",
   "execution_count": 251,
   "metadata": {},
   "outputs": [],
   "source": [
    "from sklearn.metrics import mean_squared_error, r2_score\n",
    "def compute_err_metrics(original_df, interpolated_df, miss_dict):\n",
    "    mse_results = {}\n",
    "    r2_results = {}\n",
    "    for column in original_df.columns:\n",
    "        # Get the non-missing indices for the column\n",
    "        indices = miss_dict[column]\n",
    "        # Extract original non-NaN values and corresponding interpolated values\n",
    "        original_values = original_df[column].iloc[indices]\n",
    "        interpolated_values = interpolated_df[column].iloc[indices]\n",
    "        \n",
    "        # Calculate MSE and store it in the dictionary\n",
    "        mse = mean_squared_error(original_values, interpolated_values)\n",
    "        mse_results[column] = mse\n",
    "\n",
    "        # Calculate R2 and store it in the dictionary\n",
    "        r2 = r2_score(original_values, interpolated_values)\n",
    "        r2_results[column] = r2\n",
    "    \n",
    "    mse_results['AVG'] = sum(mse_results.values()) / len(mse_results.values())\n",
    "    r2_results['AVG'] = sum(r2_results.values()) / len(r2_results.values())\n",
    "    return mse_results, r2_results"
   ]
  },
  {
   "cell_type": "markdown",
   "metadata": {},
   "source": [
    "## Mean Value Imputation"
   ]
  },
  {
   "cell_type": "code",
   "execution_count": 258,
   "metadata": {},
   "outputs": [
    {
     "name": "stdout",
     "output_type": "stream",
     "text": [
      "MSE: 202.538, R²: 0.596 <- gracia\n",
      "MSE: 187.363, R²: 0.684 <- pr\n",
      "MSE: 346.195, R²: 0.196 <- eixample\n",
      "MSE: 274.366, R²: 0.740 <- prat\n",
      "MSE: 240.107, R²: 0.749 <- montcada\n",
      "MSE: 275.508, R²: 0.614 <- ciutadella\n",
      "MSE: 251.408, R²: 0.679 <- hebron\n",
      "MSE: 235.541, R²: 0.761 <- badalona\n"
     ]
    }
   ],
   "source": [
    "import numpy as np\n",
    "columns = data.columns\n",
    "meandf = missing.copy(deep=True)\n",
    "for column in columns:\n",
    "    for i in miss_dict[column]:\n",
    "        colmean = np.nanmean(meandf.iloc[i])\n",
    "        meandf.loc[meandf.index[i],column] = colmean\n",
    "        \n",
    "mean_mse, mean_r2 = compute_err_metrics(data, meandf, miss_dict)\n",
    "\n",
    "for column in columns:\n",
    "    mse = mean_mse[column]\n",
    "    r2 = mean_r2[column]\n",
    "    print(f\"MSE: {mse:.3f}, R²: {r2:.3f} <- {column}\")"
   ]
  },
  {
   "cell_type": "markdown",
   "metadata": {},
   "source": [
    "## Last Observed carried forward"
   ]
  },
  {
   "cell_type": "code",
   "execution_count": 145,
   "metadata": {},
   "outputs": [
    {
     "name": "stdout",
     "output_type": "stream",
     "text": [
      "MSE: 156.840, R²: 0.648 <- gracia\n",
      "MSE: 187.164, R²: 0.680 <- pr\n",
      "MSE: 139.760, R²: 0.667 <- eixample\n",
      "MSE: 230.493, R²: 0.775 <- prat\n",
      "MSE: 164.244, R²: 0.840 <- montcada\n",
      "MSE: 192.284, R²: 0.731 <- ciutadella\n",
      "MSE: 202.471, R²: 0.725 <- hebron\n",
      "MSE: 271.720, R²: 0.685 <- badalona\n",
      "MSE: 193.122, R²: 0.719 <- AVG\n"
     ]
    },
    {
     "name": "stderr",
     "output_type": "stream",
     "text": [
      "C:\\Users\\adria\\AppData\\Local\\Temp\\ipykernel_2728\\2925833395.py:1: FutureWarning: DataFrame.fillna with 'method' is deprecated and will raise in a future version. Use obj.ffill() or obj.bfill() instead.\n",
      "  locf = missing.copy().fillna(method='ffill')\n",
      "C:\\Users\\adria\\AppData\\Local\\Temp\\ipykernel_2728\\2925833395.py:2: FutureWarning: DataFrame.fillna with 'method' is deprecated and will raise in a future version. Use obj.ffill() or obj.bfill() instead.\n",
      "  locf.fillna(method='bfill', inplace=True)\n"
     ]
    }
   ],
   "source": [
    "locf = missing.copy().fillna(method='ffill')\n",
    "locf.fillna(method='bfill', inplace=True)\n",
    "locf_mse, locf_r2 = compute_err_metrics(data, locf, miss_dict)\n",
    "\n",
    "for column in locf_mse.keys():\n",
    "    mse = locf_mse[column]\n",
    "    r2 = locf_r2[column]\n",
    "    print(f\"MSE: {mse:.3f}, R²: {r2:.3f} <- {column}\")"
   ]
  },
  {
   "cell_type": "markdown",
   "metadata": {},
   "source": [
    "## Polynomial interpolation"
   ]
  },
  {
   "cell_type": "code",
   "execution_count": 114,
   "metadata": {},
   "outputs": [
    {
     "name": "stdout",
     "output_type": "stream",
     "text": [
      "MSE: 71.053, R²: 0.841 <- gracia\n",
      "MSE: 59.916, R²: 0.898 <- pr\n",
      "MSE: 88.132, R²: 0.790 <- eixample\n",
      "MSE: 77.958, R²: 0.924 <- prat\n",
      "MSE: 46.083, R²: 0.955 <- montcada\n",
      "MSE: 96.901, R²: 0.865 <- ciutadella\n",
      "MSE: 172.018, R²: 0.766 <- hebron\n",
      "MSE: 116.233, R²: 0.865 <- badalona\n",
      "MSE: 91.037, R²: 0.863 <- AVG\n"
     ]
    }
   ],
   "source": [
    "import pandas as pd\n",
    "import numpy as np\n",
    "from scipy.interpolate import interp1d\n",
    "\n",
    "# Function to apply polynomial interpolation of degree 3\n",
    "def interpolate_column(column):\n",
    "    # Drop NaN values for interpolation\n",
    "    y = column.dropna()\n",
    "    # Get the indices of the non-NaN values\n",
    "    x = np.arange(len(column))\n",
    "    x_non_nan = x[column.notna()]\n",
    "    \n",
    "    # Perform polynomial interpolation of degree 3\n",
    "    f = interp1d(x_non_nan, y, kind='cubic', fill_value=\"extrapolate\")\n",
    "    \n",
    "    # Return the interpolated values\n",
    "    return f(x)\n",
    "\n",
    "# Apply the interpolation to each column in the DataFrame\n",
    "p3 = missing.apply(interpolate_column)\n",
    "# Assuming 'data' is your original DataFrame, 'p3' is the DataFrame after interpolation, and 'miss_dict' is the dictionary of missing indices\n",
    "p3_mse, p3_r2 = compute_err_metrics(data, p3, miss_dict)\n",
    "\n",
    "# Print the MSE and R² results together\n",
    "for column in p3_mse.keys():\n",
    "    mse = p3_mse[column]\n",
    "    r2 = p3_r2[column]\n",
    "    print(f\"MSE: {mse:.3f}, R²: {r2:.3f} <- {column}\")"
   ]
  },
  {
   "cell_type": "markdown",
   "metadata": {},
   "source": [
    "## LSTM model\n",
    "First, define and train the pytorch model. We train it using all the data."
   ]
  },
  {
   "cell_type": "code",
   "execution_count": 164,
   "metadata": {},
   "outputs": [
    {
     "name": "stdout",
     "output_type": "stream",
     "text": [
      "Training on device 'cuda'\n",
      "(5724, 10) (5724,)\n",
      "Epoch 0, Loss: 0.04359535127878189\n",
      "Epoch 10, Loss: 0.014223133213818073\n",
      "Epoch 20, Loss: 0.005721209570765495\n",
      "Epoch 30, Loss: 0.011891229078173637\n",
      "Epoch 40, Loss: 0.013436978682875633\n",
      "MSE: 133.005, R²: 0.702 <- gracia\n",
      "MSE: 159.304, R²: 0.728 <- pr\n",
      "MSE: 138.676, R²: 0.670 <- eixample\n",
      "MSE: 218.767, R²: 0.786 <- prat\n",
      "MSE: 148.545, R²: 0.856 <- montcada\n",
      "MSE: 198.058, R²: 0.723 <- ciutadella\n",
      "MSE: 163.141, R²: 0.778 <- hebron\n",
      "MSE: 214.596, R²: 0.751 <- badalona\n",
      "MSE: 171.761, R²: 0.749 <- AVG\n"
     ]
    }
   ],
   "source": [
    "import torch\n",
    "import pandas as pd\n",
    "import numpy as np\n",
    "import torch\n",
    "import torch.nn as nn\n",
    "from torch.utils.data import TensorDataset, DataLoader\n",
    "from sklearn.preprocessing import MinMaxScaler\n",
    "\n",
    "# Assuming 'data' is your DataFrame with missing values handled\n",
    "device = torch.device(\"cuda\" if torch.cuda.is_available() else \"cpu\")\n",
    "print(f\"Training on device '{device}'\")\n",
    "\n",
    "class LSTMModel(nn.Module):\n",
    "    def __init__(self, input_dim, hidden_dim, num_layers, output_dim):\n",
    "        super(LSTMModel, self).__init__()\n",
    "        self.hidden_dim = hidden_dim\n",
    "        self.num_layers = num_layers\n",
    "        # Adding dropout to LSTM\n",
    "        self.lstm = nn.LSTM(input_dim, hidden_dim, num_layers, batch_first=True)\n",
    "        self.fc = nn.Linear(hidden_dim, output_dim)\n",
    "\n",
    "    def forward(self, x):\n",
    "        out, _ = self.lstm(x)\n",
    "        out = self.fc(out[:, -1, :])\n",
    "        return out\n",
    "# Preprocess data\n",
    "scaler = MinMaxScaler(feature_range=(0, 1))\n",
    "scaled_data = scaler.fit_transform(missing)\n",
    "T = 10\n",
    "X = []\n",
    "y = []\n",
    "# Filter data to exclude samples with NaN values\n",
    "for column in range(scaled_data.shape[1]):\n",
    "    column_data = scaled_data[:, column]\n",
    "    for i in range(len(scaled_data)-T):\n",
    "        # Select the window for X and the single value for y\n",
    "        window = column_data[i:i+T]\n",
    "        target = column_data[i+T]        \n",
    "        # Check if any value in the window or the target is NaN\n",
    "        if not np.isnan(window).any() and not np.isnan(target):\n",
    "            X.append(window)\n",
    "            y.append(target)\n",
    "\n",
    "X = np.array(X)\n",
    "y = np.array(y)\n",
    "print(X.shape, y.shape)\n",
    "# Convert to tensors\n",
    "X_tensor = torch.Tensor(X).reshape(-1,T,1).to(device)\n",
    "y_tensor = torch.Tensor(y).to(device)\n",
    "dataset = TensorDataset(X_tensor, y_tensor)\n",
    "loader = DataLoader(dataset, batch_size=32, shuffle=True)\n",
    "\n",
    "\n",
    "# Adjust the input dimension to match the flattened data\n",
    "model = LSTMModel(input_dim=1, hidden_dim=1, num_layers=2, output_dim=1).to(device)\n",
    "criterion = nn.MSELoss()\n",
    "optimizer = torch.optim.Adam(model.parameters(), lr=0.001)\n",
    "\n",
    "# Train the model\n",
    "model.train()\n",
    "for epoch in range(50):\n",
    "    for inputs, targets in loader:\n",
    "        optimizer.zero_grad()\n",
    "        outputs = model(inputs)\n",
    "        loss = criterion(outputs, targets.unsqueeze(1))  # Targets need to be the correct shape\n",
    "        loss.backward()\n",
    "        optimizer.step()\n",
    "    if epoch % 10 == 0:\n",
    "        print(f\"Epoch {epoch}, Loss: {loss.item()}\")\n",
    "eval_data = scaled_data.copy()\n",
    "\n",
    "# Perform prediction for each missing value\n",
    "model.eval()\n",
    "for column in range(0, eval_data.shape[1]):\n",
    "    nan_indices = np.where(np.isnan(eval_data[:, column]))[0]  # Compute NaN indices directly\n",
    "    for i in nan_indices:\n",
    "        if i < T:\n",
    "            num_zeros = T - i\n",
    "            values = np.concatenate([np.zeros(num_zeros), eval_data[0:i,column]])\n",
    "        else:\n",
    "            values = eval_data[i-T:i,column]\n",
    "            # Ensure the input is of length T, pad with zeros if necessary (for end cases)\n",
    "        if len(values) < T:\n",
    "                values = np.concatenate([np.zeros(T - len(values)), values])\n",
    "        values = values.astype(np.float32)\n",
    "        inputs = torch.Tensor(values).reshape(1, T, 1).to(device)\n",
    "        outputs = model(inputs)  # Adjusted to handle LSTM output correctly\n",
    "            # Select the last output for prediction\n",
    "        predicted_value = outputs.item()  # Adjusted to correctly extract the predicted value\n",
    "        eval_data[i, column] = predicted_value\n",
    "eval_data = scaler.inverse_transform(eval_data)\n",
    "lstm_predictions = pd.DataFrame(eval_data, index=missing.index, columns=missing.columns)\n",
    "lstm_mse, lstm_r2 = compute_err_metrics(data, lstm_predictions, miss_dict)\n",
    "\n",
    "\n",
    "for column in lstm_mse.keys():\n",
    "    mse = lstm_mse[column]\n",
    "    r2 = lstm_r2[column]\n",
    "    print(f\"MSE: {mse:.3f}, R²: {r2:.3f} <- {column}\")"
   ]
  },
  {
   "cell_type": "code",
   "execution_count": 167,
   "metadata": {},
   "outputs": [
    {
     "data": {
      "image/png": "[encoded data removed]",
      "text/plain": [
       "<Figure size 1000x600 with 1 Axes>"
      ]
     },
     "metadata": {},
     "output_type": "display_data"
    }
   ],
   "source": [
    "import matplotlib.pyplot as plt\n",
    "\n",
    "# Prepare data for plotting\n",
    "columns = list(locf_mse.keys())\n",
    "locf_values = [locf_mse[col] for col in columns]\n",
    "p3_values = [p3_mse[col] for col in columns]\n",
    "lstm_values = [lstm_mse[col] for col in columns]\n",
    "\n",
    "# Set position of bar on X axis\n",
    "r1 = np.arange(len(columns))\n",
    "r2 = [x + 0.25 for x in r1]\n",
    "r3 = [x + 0.25 for x in r2]\n",
    "\n",
    "# Make the plot\n",
    "plt.figure(figsize=(10, 6))\n",
    "plt.bar(r1, locf_values, color='b', width=0.25, label='LOCF MSE')\n",
    "plt.bar(r2, p3_values, color='g', width=0.25, label='P3 MSE')\n",
    "plt.bar(r3, lstm_values, color='r', width=0.25, label='LSTM MSE')\n",
    "\n",
    "# Add xticks on the middle of the group bars\n",
    "plt.xticks([r + 0.25 for r in range(len(columns))], columns)\n",
    "plt.ylabel('MSE')\n",
    "plt.title('Univariate Imputation MSE Comparison')\n",
    "\n",
    "# Create legend & Show graphic\n",
    "plt.legend()\n",
    "plt.show()"
   ]
  },
  {
   "cell_type": "code",
   "execution_count": 169,
   "metadata": {},
   "outputs": [
    {
     "data": {
      "image/png": "[encoded data removed]",
      "text/plain": [
       "<Figure size 1000x600 with 1 Axes>"
      ]
     },
     "metadata": {},
     "output_type": "display_data"
    }
   ],
   "source": [
    "import matplotlib.pyplot as plt\n",
    "\n",
    "# Prepare data for plotting\n",
    "columns = list(locf_mse.keys())\n",
    "locf_values = [locf_r2[col] for col in columns]\n",
    "p3_values = [p3_r2[col] for col in columns]\n",
    "lstm_values = [lstm_r2[col] for col in columns]\n",
    "\n",
    "# Set position of bar on X axis\n",
    "r1 = np.arange(len(columns))\n",
    "r2 = [x + 0.25 for x in r1]\n",
    "r3 = [x + 0.25 for x in r2]\n",
    "\n",
    "# Make the plot\n",
    "plt.figure(figsize=(10, 6))\n",
    "plt.bar(r1, locf_values, color='#6945ED', width=0.25, label='LOCF R²')\n",
    "plt.bar(r2, p3_values, color='#32CD32', width=0.25, label='P3 R²')\n",
    "plt.bar(r3, lstm_values, color='#FA8072', width=0.25, label='LSTM R²')\n",
    "\n",
    "# Add xticks on the middle of the group bars\n",
    "plt.xticks([r + 0.25 for r in range(len(columns))], columns)\n",
    "plt.ylabel('R² score')\n",
    "plt.title('Univariate Imputation R² Comparison')\n",
    "\n",
    "# Create legend & Show graphic\n",
    "plt.legend()\n",
    "plt.show()"
   ]
  },
  {
   "cell_type": "markdown",
   "metadata": {},
   "source": [
    "# Multivariate models"
   ]
  },
  {
   "cell_type": "markdown",
   "metadata": {},
   "source": [
    "## The MICE model\n",
    "First use simple MLR with grid search params"
   ]
  },
  {
   "cell_type": "code",
   "execution_count": 382,
   "metadata": {},
   "outputs": [
    {
     "name": "stdout",
     "output_type": "stream",
     "text": [
      "MSE: 63.444, R²: 0.874 <- gracia\n",
      "MSE: 125.503, R²: 0.788 <- pr\n",
      "MSE: 88.187, R²: 0.795 <- eixample\n",
      "MSE: 198.674, R²: 0.812 <- prat\n",
      "MSE: 116.714, R²: 0.878 <- montcada\n",
      "MSE: 217.786, R²: 0.695 <- ciutadella\n",
      "MSE: 119.407, R²: 0.847 <- hebron\n",
      "MSE: 160.250, R²: 0.837 <- badalona\n",
      "MSE: 136.246, R²: 0.816 <- AVG\n"
     ]
    }
   ],
   "source": [
    "import pandas as pd\n",
    "import time\n",
    "from sklearn.experimental import enable_iterative_imputer\n",
    "from sklearn.impute import IterativeImputer\n",
    "from sklearn.linear_model import LinearRegression\n",
    "\n",
    "mice  = IterativeImputer(estimator=LinearRegression(),\n",
    "                         random_state=0, max_iter=200, tol=1e-7)\n",
    "\n",
    "st = time.time()\n",
    "mice_mlr = pd.DataFrame(mice.fit_transform(missing), columns=missing.columns)\n",
    "el_mlr = time.time() - st\n",
    "\n",
    "mice_mlr_mse, mice_mlr_r2 = compute_err_metrics(data, mice_mlr, miss_dict)\n",
    "\n",
    "for column in mice_mlr_mse.keys():\n",
    "    mse = mice_mlr_mse[column]\n",
    "    r2 = mice_mlr_r2[column]\n",
    "    print(f\"MSE: {mse:.3f}, R²: {r2:.3f} <- {column}\")"
   ]
  },
  {
   "cell_type": "markdown",
   "metadata": {},
   "source": [
    "Now we use KNN."
   ]
  },
  {
   "cell_type": "code",
   "execution_count": 384,
   "metadata": {},
   "outputs": [
    {
     "name": "stdout",
     "output_type": "stream",
     "text": [
      "30.238269078150452\n",
      "MSE: 71.945, R²: 0.857 <- gracia\n",
      "MSE: 117.137, R²: 0.802 <- pr\n",
      "MSE: 100.200, R²: 0.767 <- eixample\n",
      "MSE: 195.781, R²: 0.815 <- prat\n",
      "MSE: 98.850, R²: 0.897 <- montcada\n",
      "MSE: 184.081, R²: 0.742 <- ciutadella\n",
      "MSE: 136.174, R²: 0.826 <- hebron\n",
      "MSE: 160.331, R²: 0.837 <- badalona\n",
      "MSE: 133.062, R²: 0.818 <- AVG\n"
     ]
    },
    {
     "name": "stderr",
     "output_type": "stream",
     "text": [
      "c:\\Users\\adria\\anaconda3\\envs\\ultralytics\\Lib\\site-packages\\sklearn\\impute\\_iterative.py:801: ConvergenceWarning: [IterativeImputer] Early stopping criterion not reached.\n",
      "  warnings.warn(\n"
     ]
    }
   ],
   "source": [
    "from sklearn.neighbors import KNeighborsRegressor\n",
    "\n",
    "n_neighbors = 18 # Found using grid search\n",
    "mice.estimator = KNeighborsRegressor(n_neighbors=n_neighbors)\n",
    "\n",
    "st = time.time()\n",
    "mice_knn = pd.DataFrame(mice.fit_transform(missing), columns=missing.columns)\n",
    "el_knn = time.time() - st\n",
    "\n",
    "mice_knn_mse, mice_knn_r2 = compute_err_metrics(data, mice_knn, miss_dict)\n",
    "\n",
    "print(el_knn/el_mlr)\n",
    "for column in mice_knn_mse.keys():\n",
    "    mse = mice_knn_mse[column]\n",
    "    r2 = mice_knn_r2[column]\n",
    "    print(f\"MSE: {mse:.3f}, R²: {r2:.3f} <- {column}\")"
   ]
  },
  {
   "cell_type": "markdown",
   "metadata": {},
   "source": [
    "## Auto Encoder"
   ]
  },
  {
   "cell_type": "code",
   "execution_count": 392,
   "metadata": {},
   "outputs": [
    {
     "name": "stdout",
     "output_type": "stream",
     "text": [
      "Epoch [1/50], Loss: 44.8792\n",
      "Epoch [3/50], Loss: 120.9950\n",
      "Epoch [5/50], Loss: 50.0793\n",
      "Epoch [7/50], Loss: 31.8153\n",
      "Epoch [9/50], Loss: 353.3615\n",
      "Epoch [11/50], Loss: 106.1732\n",
      "Epoch [13/50], Loss: 155.7936\n",
      "Epoch [15/50], Loss: 348.8379\n",
      "Epoch [17/50], Loss: 78.0400\n",
      "Epoch [19/50], Loss: 76.3192\n",
      "Epoch [21/50], Loss: 122.8606\n",
      "Epoch [23/50], Loss: 41.6859\n",
      "Epoch [25/50], Loss: 57.3167\n",
      "Epoch [27/50], Loss: 43.2744\n",
      "Epoch [29/50], Loss: 50.2655\n",
      "Epoch [31/50], Loss: 27.6650\n",
      "Epoch [33/50], Loss: 57.4001\n",
      "Epoch [35/50], Loss: 151.2166\n",
      "Epoch [37/50], Loss: 5.3252\n",
      "Epoch [39/50], Loss: 207.0464\n",
      "Epoch [41/50], Loss: 139.2941\n",
      "Epoch [43/50], Loss: 141.0107\n",
      "Epoch [45/50], Loss: 99.7125\n",
      "Epoch [47/50], Loss: 218.8481\n",
      "Epoch [49/50], Loss: 57.6914\n",
      "Final MSE Loss with chosen parameters: 91.9511\n"
     ]
    }
   ],
   "source": [
    "import torch\n",
    "import torch.nn as nn\n",
    "import torch.optim as optim\n",
    "from torch.utils.data import DataLoader, TensorDataset\n",
    "\n",
    "# Step 1: Define the AE Architecture\n",
    "class Autoencoder(nn.Module):\n",
    "    def __init__(self, num_sensors):\n",
    "        super(Autoencoder, self).__init__()\n",
    "        self.encoder = nn.Sequential(\n",
    "            nn.Linear(num_sensors, 6),  # Increased complexity\n",
    "            nn.ReLU(True),\n",
    "            nn.Linear(6, 4),  # Increased complexity\n",
    "            nn.ReLU(True),\n",
    "            nn.Linear(4, 2)  # Increased latent space dimension\n",
    "        )\n",
    "        self.decoder = nn.Sequential(\n",
    "            nn.Linear(2, 4),\n",
    "            nn.ReLU(True),\n",
    "            nn.Linear(4, 6),\n",
    "            nn.ReLU(True),\n",
    "            nn.Linear(6, num_sensors),\n",
    "        )\n",
    "\n",
    "    def forward(self, x):\n",
    "        x = self.encoder(x)\n",
    "        x = self.decoder(x)\n",
    "        return x\n",
    "\n",
    "# Step 2: Prepare the Data\n",
    "num_sensors = 8\n",
    "data_tensor = torch.tensor(data.copy(deep=True).values, dtype=torch.float32)\n",
    "dataset = TensorDataset(data_tensor)\n",
    "dataloader = DataLoader(dataset, batch_size=8, shuffle=True)\n",
    "\n",
    "# Initialize the AE\n",
    "autoencoder = Autoencoder(num_sensors)\n",
    "criterion = nn.MSELoss()\n",
    "# Adjustments in training parameters\n",
    "optimizer = optim.Adam(autoencoder.parameters(), lr=1e-3)  # Adjusted learning rate\n",
    "scheduler = optim.lr_scheduler.StepLR(optimizer, step_size=50, gamma=0.1)  # Learning rate scheduler\n",
    "\n",
    "num_epochs = 50  # Increased number of epochs\n",
    "for epoch in range(num_epochs):\n",
    "    for d in dataloader:\n",
    "        inputs, = d\n",
    "        optimizer.zero_grad()\n",
    "        outputs = autoencoder(inputs)\n",
    "        loss = criterion(outputs, inputs)\n",
    "        loss.backward()\n",
    "        optimizer.step()\n",
    "    scheduler.step()  # Adjust learning rate\n",
    "    if epoch % 2 == 0:\n",
    "        print(f'Epoch [{epoch+1}/{num_epochs}], Loss: {loss.item():.4f}')\n",
    "# After the training loop\n",
    "autoencoder.eval()  # Set the model to evaluation mode\n",
    "with torch.no_grad():  # No need to track gradients\n",
    "    total_loss = 0\n",
    "    for inputs, in dataloader:\n",
    "        outputs = autoencoder(inputs)\n",
    "        loss = criterion(outputs, inputs)\n",
    "        total_loss += loss.item()\n",
    "    avg_loss = total_loss / len(dataloader)\n",
    "    print(f'Final MSE Loss with chosen parameters: {avg_loss:.4f}')"
   ]
  },
  {
   "cell_type": "code",
   "execution_count": 394,
   "metadata": {},
   "outputs": [
    {
     "name": "stdout",
     "output_type": "stream",
     "text": [
      "Converged after 132 iterations.\n",
      "MSE: 95.553, R²: 0.810 <- gracia\n",
      "MSE: 139.088, R²: 0.765 <- pr\n",
      "MSE: 126.889, R²: 0.705 <- eixample\n",
      "MSE: 255.949, R²: 0.758 <- prat\n",
      "MSE: 142.071, R²: 0.852 <- montcada\n",
      "MSE: 263.804, R²: 0.630 <- ciutadella\n",
      "MSE: 159.765, R²: 0.796 <- hebron\n",
      "MSE: 181.400, R²: 0.816 <- badalona\n",
      "MSE: 170.565, R²: 0.766 <- AVG\n"
     ]
    }
   ],
   "source": [
    "mvi_tensor = torch.tensor(meandf.values, dtype=torch.float32)\n",
    "autoencoder.eval()\n",
    "for iter in range(0, 500):\n",
    "    with torch.no_grad():\n",
    "        reconstructed = autoencoder(mvi_tensor)\n",
    "    sum_abs_diff = 0.0\n",
    "    for col in range(0, 8):\n",
    "        for i in miss_dict[columns[col]]:\n",
    "            sum_abs_diff += abs(mvi_tensor[i, col] - reconstructed[i, col])\n",
    "            mvi_tensor[i, col] = reconstructed[i, col]\n",
    "    if sum_abs_diff < 1e-3:\n",
    "        print(f'Converged after {iter+1} iterations.')\n",
    "        break\n",
    "\n",
    "ae_df = pd.DataFrame(mvi_tensor,index=missing.index, columns=missing.columns)\n",
    "ae_mse, ae_r2 = compute_err_metrics(data, ae_df, miss_dict)\n",
    "\n",
    "for column in ae_mse.keys():\n",
    "    mse = ae_mse[column]\n",
    "    r2 = ae_r2[column]\n",
    "    print(f\"MSE: {mse:.3f}, R²: {r2:.3f} <- {column}\")"
   ]
  },
  {
   "cell_type": "code",
   "execution_count": 395,
   "metadata": {},
   "outputs": [
    {
     "data": {
      "image/png": "[encoded data removed]",
      "text/plain": [
       "<Figure size 1000x600 with 1 Axes>"
      ]
     },
     "metadata": {},
     "output_type": "display_data"
    }
   ],
   "source": [
    "import matplotlib.pyplot as plt\n",
    "\n",
    "# Prepare data for plotting\n",
    "columns = list(locf_mse.keys())\n",
    "locf_values = [locf_mse[col] for col in columns]\n",
    "p3_values = [p3_mse[col] for col in columns]\n",
    "lstm_values = [lstm_mse[col] for col in columns]\n",
    "\n",
    "# Set position of bar on X axis\n",
    "r1 = np.arange(len(columns))\n",
    "r2 = [x + 0.25 for x in r1]\n",
    "r3 = [x + 0.25 for x in r2]\n",
    "\n",
    "# Make the plot\n",
    "plt.figure(figsize=(10, 6))\n",
    "plt.bar(r1, [mice_mlr_mse[col] for col in columns], color='c', width=0.25, label='MICE MLR MSE')\n",
    "plt.bar(r2, [mice_knn_mse[col] for col in columns], color='m', width=0.25, label='MICE KNN MSE')\n",
    "plt.bar(r3, [ae_mse[col] for col in columns], color='y', width=0.25, label='AE MSE')\n",
    "\n",
    "# Add xticks on the middle of the group bars\n",
    "plt.xticks([r + 0.25 for r in range(len(columns))], columns)\n",
    "plt.ylabel('MSE')\n",
    "plt.title('Multivariate Imputation MSE Comparison')\n",
    "\n",
    "# Create legend & Show graphic\n",
    "plt.legend()\n",
    "plt.show()"
   ]
  },
  {
   "cell_type": "code",
   "execution_count": 396,
   "metadata": {},
   "outputs": [
    {
     "data": {
      "image/png": "[encoded data removed]",
      "text/plain": [
       "<Figure size 1000x600 with 1 Axes>"
      ]
     },
     "metadata": {},
     "output_type": "display_data"
    }
   ],
   "source": [
    "import matplotlib.pyplot as plt\n",
    "\n",
    "r1 = np.arange(len(columns))\n",
    "r2 = [x + 0.25 for x in r1]\n",
    "r3 = [x + 0.25 for x in r2]\n",
    "# Make the plot\n",
    "plt.figure(figsize=(10, 6))\n",
    "plt.bar(r1, [mice_mlr_r2[col] for col in columns], color='cornflowerblue', width=0.25, label='MICE MLR R²')\n",
    "plt.bar(r2, [mice_knn_r2[col] for col in columns], color='salmon', width=0.25, label='MICE KNN R²')\n",
    "plt.bar(r3, [ae_r2[col] for col in columns], color='#FFC40C', width=0.25, label='AE R²')\n",
    "\n",
    "# Add xticks on the middle of the group bars\n",
    "plt.xticks([r + 0.25 for r in range(len(columns))], columns)\n",
    "plt.ylabel('R² score')\n",
    "plt.title('Multivariate Imputation R² Comparison')\n",
    "\n",
    "# Create legend & Show graphic\n",
    "plt.legend()\n",
    "plt.show()"
   ]
  },
  {
   "cell_type": "code",
   "execution_count": null,
   "metadata": {},
   "outputs": [],
   "source": [
    "from mg import produce_missings\n",
    "\n",
    "def accuracy(df):\n",
    "    \n",
    "\n",
    "ps = [0.05, 0.1, 0.15, 0.2, 0.25] \n",
    "bs = [1, 2, 3, 4, 5]\n",
    "\n",
    "for p, b in zip(ps, bs):\n",
    "    for i in range(0, 10):\n",
    "        m = data.copy()  # Create a deep copy to avoid modifying the original DataFrame\n",
    "        miss_dict = {}  # Initialize an empty dictionary to store missing indexes\n",
    "\n",
    "        for column in data.columns:\n",
    "            indexes_missing, missing[column] = produce_missings(data[column], 0.1, 1)\n",
    "            miss_dict[column] = indexes_missing  # Store the missing indexes in the dictionary\n",
    "            missing_indexes_labels = data.index[indexes_missing]\n",
    "        \n",
    "        locf = missing.copy().fillna(method='ffill')\n",
    "        locf.fillna(method='bfill', inplace=True)\n",
    "\n",
    "\n",
    "    "
   ]
  }
 ],
 "metadata": {
  "kernelspec": {
   "display_name": ".venv",
   "language": "python",
   "name": "python3"
  },
  "language_info": {
   "codemirror_mode": {
    "name": "ipython",
    "version": 3
   },
   "file_extension": ".py",
   "mimetype": "text/x-python",
   "name": "python",
   "nbconvert_exporter": "python",
   "pygments_lexer": "ipython3",
   "version": "3.11.7"
  }
 },
 "nbformat": 4,
 "nbformat_minor": 2
}
